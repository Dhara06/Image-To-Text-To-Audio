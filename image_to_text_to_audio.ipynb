{
  "cells": [
    {
      "cell_type": "code",
      "execution_count": null,
      "metadata": {
        "id": "zKNF5sW18oig"
      },
      "outputs": [],
      "source": [
        "import requests"
      ]
    },
    {
      "cell_type": "code",
      "execution_count": null,
      "metadata": {
        "id": "L8dfT5wL9PAP"
      },
      "outputs": [],
      "source": [
        "import os"
      ]
    },
    {
      "cell_type": "code",
      "execution_count": null,
      "metadata": {
        "colab": {
          "base_uri": "https://localhost:8080/"
        },
        "id": "CUsyvo6S9PLl",
        "outputId": "4fcce58a-44cd-468f-d7b9-aa379694c178"
      },
      "outputs": [
        {
          "name": "stdout",
          "output_type": "stream",
          "text": [
            "Collecting python-dotenv\n",
            "  Downloading python_dotenv-1.0.1-py3-none-any.whl.metadata (23 kB)\n",
            "Downloading python_dotenv-1.0.1-py3-none-any.whl (19 kB)\n",
            "Installing collected packages: python-dotenv\n",
            "Successfully installed python-dotenv-1.0.1\n"
          ]
        }
      ],
      "source": [
        "!pip install python-dotenv"
      ]
    },
    {
      "cell_type": "code",
      "execution_count": null,
      "metadata": {
        "id": "6i4RuK_g9PSZ"
      },
      "outputs": [],
      "source": [
        "from dotenv import find_dotenv, load_dotenv\n",
        "from transformers import pipeline"
      ]
    },
    {
      "cell_type": "code",
      "execution_count": null,
      "metadata": {
        "colab": {
          "base_uri": "https://localhost:8080/"
        },
        "id": "SI29Nns39PbC",
        "outputId": "0484beac-20d0-4ba1-d658-3740a2f29996"
      },
      "outputs": [
        {
          "name": "stdout",
          "output_type": "stream",
          "text": [
            "Collecting langchain\n",
            "  Downloading langchain-0.2.14-py3-none-any.whl.metadata (7.1 kB)\n",
            "Requirement already satisfied: PyYAML>=5.3 in /usr/local/lib/python3.10/dist-packages (from langchain) (6.0.2)\n",
            "Requirement already satisfied: SQLAlchemy<3,>=1.4 in /usr/local/lib/python3.10/dist-packages (from langchain) (2.0.32)\n",
            "Requirement already satisfied: aiohttp<4.0.0,>=3.8.3 in /usr/local/lib/python3.10/dist-packages (from langchain) (3.10.2)\n",
            "Requirement already satisfied: async-timeout<5.0.0,>=4.0.0 in /usr/local/lib/python3.10/dist-packages (from langchain) (4.0.3)\n",
            "Collecting langchain-core<0.3.0,>=0.2.32 (from langchain)\n",
            "  Downloading langchain_core-0.2.33-py3-none-any.whl.metadata (6.2 kB)\n",
            "Collecting langchain-text-splitters<0.3.0,>=0.2.0 (from langchain)\n",
            "  Downloading langchain_text_splitters-0.2.2-py3-none-any.whl.metadata (2.1 kB)\n",
            "Collecting langsmith<0.2.0,>=0.1.17 (from langchain)\n",
            "  Downloading langsmith-0.1.99-py3-none-any.whl.metadata (13 kB)\n",
            "Requirement already satisfied: numpy<2,>=1 in /usr/local/lib/python3.10/dist-packages (from langchain) (1.26.4)\n",
            "Requirement already satisfied: pydantic<3,>=1 in /usr/local/lib/python3.10/dist-packages (from langchain) (2.8.2)\n",
            "Requirement already satisfied: requests<3,>=2 in /usr/local/lib/python3.10/dist-packages (from langchain) (2.32.3)\n",
            "Collecting tenacity!=8.4.0,<9.0.0,>=8.1.0 (from langchain)\n",
            "  Downloading tenacity-8.5.0-py3-none-any.whl.metadata (1.2 kB)\n",
            "Requirement already satisfied: aiohappyeyeballs>=2.3.0 in /usr/local/lib/python3.10/dist-packages (from aiohttp<4.0.0,>=3.8.3->langchain) (2.3.5)\n",
            "Requirement already satisfied: aiosignal>=1.1.2 in /usr/local/lib/python3.10/dist-packages (from aiohttp<4.0.0,>=3.8.3->langchain) (1.3.1)\n",
            "Requirement already satisfied: attrs>=17.3.0 in /usr/local/lib/python3.10/dist-packages (from aiohttp<4.0.0,>=3.8.3->langchain) (24.2.0)\n",
            "Requirement already satisfied: frozenlist>=1.1.1 in /usr/local/lib/python3.10/dist-packages (from aiohttp<4.0.0,>=3.8.3->langchain) (1.4.1)\n",
            "Requirement already satisfied: multidict<7.0,>=4.5 in /usr/local/lib/python3.10/dist-packages (from aiohttp<4.0.0,>=3.8.3->langchain) (6.0.5)\n",
            "Requirement already satisfied: yarl<2.0,>=1.0 in /usr/local/lib/python3.10/dist-packages (from aiohttp<4.0.0,>=3.8.3->langchain) (1.9.4)\n",
            "Collecting jsonpatch<2.0,>=1.33 (from langchain-core<0.3.0,>=0.2.32->langchain)\n",
            "  Downloading jsonpatch-1.33-py2.py3-none-any.whl.metadata (3.0 kB)\n",
            "Requirement already satisfied: packaging<25,>=23.2 in /usr/local/lib/python3.10/dist-packages (from langchain-core<0.3.0,>=0.2.32->langchain) (24.1)\n",
            "Requirement already satisfied: typing-extensions>=4.7 in /usr/local/lib/python3.10/dist-packages (from langchain-core<0.3.0,>=0.2.32->langchain) (4.12.2)\n",
            "Collecting orjson<4.0.0,>=3.9.14 (from langsmith<0.2.0,>=0.1.17->langchain)\n",
            "  Downloading orjson-3.10.7-cp310-cp310-manylinux_2_17_x86_64.manylinux2014_x86_64.whl.metadata (50 kB)\n",
            "\u001b[2K     \u001b[90m━━━━━━━━━━━━━━━━━━━━━━━━━━━━━━━━━━━━━━━━\u001b[0m \u001b[32m50.4/50.4 kB\u001b[0m \u001b[31m1.9 MB/s\u001b[0m eta \u001b[36m0:00:00\u001b[0m\n",
            "\u001b[?25hRequirement already satisfied: annotated-types>=0.4.0 in /usr/local/lib/python3.10/dist-packages (from pydantic<3,>=1->langchain) (0.7.0)\n",
            "Requirement already satisfied: pydantic-core==2.20.1 in /usr/local/lib/python3.10/dist-packages (from pydantic<3,>=1->langchain) (2.20.1)\n",
            "Requirement already satisfied: charset-normalizer<4,>=2 in /usr/local/lib/python3.10/dist-packages (from requests<3,>=2->langchain) (3.3.2)\n",
            "Requirement already satisfied: idna<4,>=2.5 in /usr/local/lib/python3.10/dist-packages (from requests<3,>=2->langchain) (3.7)\n",
            "Requirement already satisfied: urllib3<3,>=1.21.1 in /usr/local/lib/python3.10/dist-packages (from requests<3,>=2->langchain) (2.0.7)\n",
            "Requirement already satisfied: certifi>=2017.4.17 in /usr/local/lib/python3.10/dist-packages (from requests<3,>=2->langchain) (2024.7.4)\n",
            "Requirement already satisfied: greenlet!=0.4.17 in /usr/local/lib/python3.10/dist-packages (from SQLAlchemy<3,>=1.4->langchain) (3.0.3)\n",
            "Collecting jsonpointer>=1.9 (from jsonpatch<2.0,>=1.33->langchain-core<0.3.0,>=0.2.32->langchain)\n",
            "  Downloading jsonpointer-3.0.0-py2.py3-none-any.whl.metadata (2.3 kB)\n",
            "Downloading langchain-0.2.14-py3-none-any.whl (997 kB)\n",
            "\u001b[2K   \u001b[90m━━━━━━━━━━━━━━━━━━━━━━━━━━━━━━━━━━━━━━━━\u001b[0m \u001b[32m997.8/997.8 kB\u001b[0m \u001b[31m14.5 MB/s\u001b[0m eta \u001b[36m0:00:00\u001b[0m\n",
            "\u001b[?25hDownloading langchain_core-0.2.33-py3-none-any.whl (391 kB)\n",
            "\u001b[2K   \u001b[90m━━━━━━━━━━━━━━━━━━━━━━━━━━━━━━━━━━━━━━━━\u001b[0m \u001b[32m391.5/391.5 kB\u001b[0m \u001b[31m21.9 MB/s\u001b[0m eta \u001b[36m0:00:00\u001b[0m\n",
            "\u001b[?25hDownloading langchain_text_splitters-0.2.2-py3-none-any.whl (25 kB)\n",
            "Downloading langsmith-0.1.99-py3-none-any.whl (140 kB)\n",
            "\u001b[2K   \u001b[90m━━━━━━━━━━━━━━━━━━━━━━━━━━━━━━━━━━━━━━━━\u001b[0m \u001b[32m140.4/140.4 kB\u001b[0m \u001b[31m8.0 MB/s\u001b[0m eta \u001b[36m0:00:00\u001b[0m\n",
            "\u001b[?25hDownloading tenacity-8.5.0-py3-none-any.whl (28 kB)\n",
            "Downloading jsonpatch-1.33-py2.py3-none-any.whl (12 kB)\n",
            "Downloading orjson-3.10.7-cp310-cp310-manylinux_2_17_x86_64.manylinux2014_x86_64.whl (141 kB)\n",
            "\u001b[2K   \u001b[90m━━━━━━━━━━━━━━━━━━━━━━━━━━━━━━━━━━━━━━━━\u001b[0m \u001b[32m141.9/141.9 kB\u001b[0m \u001b[31m10.4 MB/s\u001b[0m eta \u001b[36m0:00:00\u001b[0m\n",
            "\u001b[?25hDownloading jsonpointer-3.0.0-py2.py3-none-any.whl (7.6 kB)\n",
            "Installing collected packages: tenacity, orjson, jsonpointer, jsonpatch, langsmith, langchain-core, langchain-text-splitters, langchain\n",
            "  Attempting uninstall: tenacity\n",
            "    Found existing installation: tenacity 9.0.0\n",
            "    Uninstalling tenacity-9.0.0:\n",
            "      Successfully uninstalled tenacity-9.0.0\n",
            "Successfully installed jsonpatch-1.33 jsonpointer-3.0.0 langchain-0.2.14 langchain-core-0.2.33 langchain-text-splitters-0.2.2 langsmith-0.1.99 orjson-3.10.7 tenacity-8.5.0\n"
          ]
        }
      ],
      "source": [
        "!pip install langchain"
      ]
    },
    {
      "cell_type": "code",
      "execution_count": null,
      "metadata": {
        "id": "jXtspN-a9Ye7"
      },
      "outputs": [],
      "source": [
        "from langchain import PromptTemplate, LLMChain"
      ]
    },
    {
      "cell_type": "code",
      "execution_count": null,
      "metadata": {
        "id": "cgifXOxA9bgt"
      },
      "outputs": [],
      "source": [
        "HUGGINGFACEHUB_API_TOKEN = os.getenv(\"place ur hugginig face api key\")"
      ]
    },
    {
      "cell_type": "code",
      "execution_count": null,
      "metadata": {
        "colab": {
          "base_uri": "https://localhost:8080/"
        },
        "id": "-K7HMibi9YNz",
        "outputId": "afeb8146-c6f6-4c3b-9192-3363654389de"
      },
      "outputs": [
        {
          "data": {
            "text/plain": [
              "False"
            ]
          },
          "execution_count": 8,
          "metadata": {},
          "output_type": "execute_result"
        }
      ],
      "source": [
        "load_dotenv(find_dotenv())"
      ]
    },
    {
      "cell_type": "code",
      "execution_count": null,
      "metadata": {
        "id": "2YeIsmAv9gH9"
      },
      "outputs": [],
      "source": [
        "def img2text(url) :\n",
        "  image_to_text = pipeline(\"image-to-text\", model=\"Salesforce/blip-image-captioning-base\")\n",
        "  text = image_to_text(url) [0] [\"generated_text\"]\n",
        "  print(text)\n",
        "  return text"
      ]
    },
    {
      "cell_type": "code",
      "execution_count": null,
      "metadata": {
        "colab": {
          "base_uri": "https://localhost:8080/",
          "height": 108
        },
        "id": "DYkiHf3f9lru",
        "outputId": "ee2148ac-9cd6-4a42-c7be-154e8896e922"
      },
      "outputs": [
        {
          "name": "stderr",
          "output_type": "stream",
          "text": [
            "/usr/local/lib/python3.10/dist-packages/transformers/generation/utils.py:1249: UserWarning: Using the model-agnostic default `max_length` (=20) to control the generation length. We recommend setting `max_new_tokens` to control the maximum length of the generation.\n",
            "  warnings.warn(\n"
          ]
        },
        {
          "name": "stdout",
          "output_type": "stream",
          "text": [
            "the entrance to the international university of engineering\n"
          ]
        },
        {
          "data": {
            "application/vnd.google.colaboratory.intrinsic+json": {
              "type": "string"
            },
            "text/plain": [
              "'the entrance to the international university of engineering'"
            ]
          },
          "execution_count": 14,
          "metadata": {},
          "output_type": "execute_result"
        }
      ],
      "source": [
        "scenarioo = img2text(\"/content/Dr-DY-Patil-Medical-College-Pune.jpg\")\n",
        "scenarioo"
      ]
    },
    {
      "cell_type": "code",
      "execution_count": null,
      "metadata": {
        "colab": {
          "base_uri": "https://localhost:8080/"
        },
        "id": "F5M1p-yp9oq9",
        "outputId": "b4a55329-74d5-4279-f3f1-769d0b2c5444"
      },
      "outputs": [
        {
          "name": "stdout",
          "output_type": "stream",
          "text": [
            "Collecting gTTS\n",
            "  Downloading gTTS-2.5.3-py3-none-any.whl.metadata (4.1 kB)\n",
            "Requirement already satisfied: requests<3,>=2.27 in /usr/local/lib/python3.10/dist-packages (from gTTS) (2.32.3)\n",
            "Requirement already satisfied: click<8.2,>=7.1 in /usr/local/lib/python3.10/dist-packages (from gTTS) (8.1.7)\n",
            "Requirement already satisfied: charset-normalizer<4,>=2 in /usr/local/lib/python3.10/dist-packages (from requests<3,>=2.27->gTTS) (3.3.2)\n",
            "Requirement already satisfied: idna<4,>=2.5 in /usr/local/lib/python3.10/dist-packages (from requests<3,>=2.27->gTTS) (3.7)\n",
            "Requirement already satisfied: urllib3<3,>=1.21.1 in /usr/local/lib/python3.10/dist-packages (from requests<3,>=2.27->gTTS) (2.0.7)\n",
            "Requirement already satisfied: certifi>=2017.4.17 in /usr/local/lib/python3.10/dist-packages (from requests<3,>=2.27->gTTS) (2024.7.4)\n",
            "Downloading gTTS-2.5.3-py3-none-any.whl (29 kB)\n",
            "Installing collected packages: gTTS\n",
            "Successfully installed gTTS-2.5.3\n"
          ]
        }
      ],
      "source": [
        "!pip install gTTS\n",
        "\n",
        "from gtts import gTTS\n",
        "from IPython.display import Audio"
      ]
    },
    {
      "cell_type": "code",
      "execution_count": null,
      "metadata": {
        "id": "LoB64I6x9lz_"
      },
      "outputs": [],
      "source": [
        "def text_to_speech(text):\n",
        "    tts = gTTS(text=text, lang='en')\n",
        "    tts.save('output.mp3')\n",
        "    return Audio('output.mp3', autoplay=True)"
      ]
    },
    {
      "cell_type": "code",
      "execution_count": null,
      "metadata": {
        "colab": {
          "base_uri": "https://localhost:8080/",
          "height": 76
        },
        "id": "jt04Shh09r9M",
        "outputId": "099307a1-2a2a-4641-ecad-d051b1aa1d62"
      },
      "outputs": [
        {
          "data": {
            "text/html": [
              "\n",
              "                <audio  controls=\"controls\" autoplay=\"autoplay\">\n",
              "                    <source src=\"data:audio/mpeg;base64,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\" type=\"audio/mpeg\" />\n",
              "                    Your browser does not support the audio element.\n",
              "                </audio>\n",
              "              "
            ],
            "text/plain": [
              "<IPython.lib.display.Audio object>"
            ]
          },
          "execution_count": 16,
          "metadata": {},
          "output_type": "execute_result"
        }
      ],
      "source": [
        "audio = text_to_speech(scenarioo)\n",
        "audio"
      ]
    }
  ],
  "metadata": {
    "colab": {
      "provenance": []
    },
    "kernelspec": {
      "display_name": "Python 3",
      "name": "python3"
    },
    "language_info": {
      "name": "python"
    }
  },
  "nbformat": 4,
  "nbformat_minor": 0
}
